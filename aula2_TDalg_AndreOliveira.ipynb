{
  "nbformat": 4,
  "nbformat_minor": 0,
  "metadata": {
    "colab": {
      "provenance": []
    },
    "kernelspec": {
      "name": "python3",
      "display_name": "Python 3"
    },
    "language_info": {
      "name": "python"
    }
  },
  "cells": [
    {
      "cell_type": "code",
      "source": [
        "#1. Elabore um programa que solicite ao usuário um número real e ao final imprima na tela se o\n",
        "# número informado é maior que 10 (dez)\n",
        "\n",
        "numReal = float(input(\"digite umnumero real \"))\n",
        "if numReal > 10:\n",
        "     print(\"o numero e maior que 10\")\n",
        "else:\n",
        "    print(\"esse numero e menor que 10.\")"
      ],
      "metadata": {
        "colab": {
          "base_uri": "https://localhost:8080/"
        },
        "id": "qAHhnuhOPiAC",
        "outputId": "2ff1ddd2-b26d-4fa9-b300-95858b7fe76b"
      },
      "execution_count": null,
      "outputs": [
        {
          "output_type": "stream",
          "name": "stdout",
          "text": [
            "digite umnumero real 3\n",
            "esse numero e menor que 10.\n"
          ]
        }
      ]
    },
    {
      "cell_type": "code",
      "source": [
        "#2. Escreva um programa que solicite ao usuário um número real e ao final imprima na tela se\n",
        "# o número informado é maior ou igual a dez ou menor que 10 (dez)\n",
        "numReal = float(input(\"digite umnumero real \"))\n",
        "if numReal > 10:\n",
        "  print(\"o numero e maior que 10\")\n",
        "elif numReal == 10:\n",
        "    print(\"esse numero e igual a 10.\")\n",
        "else:\n",
        "   print(\"esse numero e menor que 10.\")"
      ],
      "metadata": {
        "colab": {
          "base_uri": "https://localhost:8080/"
        },
        "id": "THdtWfLYc7Tq",
        "outputId": "05331d4c-e115-4c09-d96c-3a01cbdcaaf2"
      },
      "execution_count": null,
      "outputs": [
        {
          "output_type": "stream",
          "name": "stdout",
          "text": [
            "digite umnumero real 10\n",
            "o numero e maior que 10\n"
          ]
        }
      ]
    },
    {
      "cell_type": "code",
      "source": [
        "#2. Escreva um programa que solicite ao usuário um número real e ao final imprima na tela se\n",
        "# o número informado é maior ou igual a dez ou menor que 10 (dez)\n",
        "numReal = float(input(\"digite umnumero real \"))\n",
        "if numReal >= 10:\n",
        "  print(\"o numero e maior que 10\")\n",
        "elif numReal < 10:\n",
        "    print(\"esse numero e menor a 10.\")"
      ],
      "metadata": {
        "id": "rLPsJ81tePwX"
      },
      "execution_count": null,
      "outputs": []
    },
    {
      "cell_type": "code",
      "source": [
        "# 3. Elabore um algoritmo que solicite ao usuário um número real e ao final imprima na tela se o\n",
        "# número informado é maior que dez, se é menor que dez, ou se é igual a dez\n",
        "numReal = float(input(\"digite umnumero real \"))\n",
        "if numReal > 10:\n",
        "  print(\"o numero e maior que 10\")\n",
        "elif numReal < 10:\n",
        "    print(\"esse numero e menor a 10.\")\n",
        "elif numReal == 10:\n",
        "    print(\"esse numero e igual a 10.\")"
      ],
      "metadata": {
        "colab": {
          "base_uri": "https://localhost:8080/"
        },
        "id": "xp80CJa5eVne",
        "outputId": "0d7ad635-586d-4def-adc6-ea7be79796ff"
      },
      "execution_count": null,
      "outputs": [
        {
          "output_type": "stream",
          "name": "stdout",
          "text": [
            "digite umnumero real 10\n",
            "esse numero e igual a 10.\n"
          ]
        }
      ]
    },
    {
      "cell_type": "code",
      "source": [
        "# 4 Elabore um algoritmo que solicite ao usuário um número real e ao final imprima na tela se o\n",
        "# número informado é positivo, negativo ou nulo (zero)\n",
        "numReal = float(input(\"digite umnumero real \"))\n",
        "if numReal > 0:\n",
        "   print(f\"{numReal}  : O numero e positivo:\")\n",
        "elif numReal < 0:\n",
        "    print(f\"{numReal} : O esse numero e negativo:\")"
      ],
      "metadata": {
        "colab": {
          "base_uri": "https://localhost:8080/"
        },
        "id": "VrIpLc_bf09q",
        "outputId": "15c2ffcf-125c-4059-cd25-78aada8523ce"
      },
      "execution_count": null,
      "outputs": [
        {
          "output_type": "stream",
          "name": "stdout",
          "text": [
            "digite umnumero real -1\n",
            "-1.0 : O esse numero e negativo:\n"
          ]
        }
      ]
    },
    {
      "cell_type": "code",
      "source": [
        "#5. Elabore um algoritmo que leia um número inteiro e imprima uma das mensagens: é múltiplo\n",
        "# de 3, ou, não é múltiplo de 3\n",
        "numReal = int(input(\"digite umnumero inteiro \"))\n",
        "if numReal % 3 == 0:\n",
        "   print(f\"{numReal}  : O numero e multiplo de 3:\")\n",
        "else:\n",
        "   print(\"Esse numero não e multiplo de 3.\")"
      ],
      "metadata": {
        "colab": {
          "base_uri": "https://localhost:8080/"
        },
        "id": "cQ0s0BlIhHM-",
        "outputId": "79b8c148-c748-4aa5-d278-b2f45aeb5168"
      },
      "execution_count": null,
      "outputs": [
        {
          "output_type": "stream",
          "name": "stdout",
          "text": [
            "digite umnumero inteiro 2\n",
            "Esse numero não e multiplo de 3.\n"
          ]
        }
      ]
    },
    {
      "cell_type": "code",
      "source": [
        "# 6. Refazer o exercício anterior, solicitando antes o múltiplo a ser testado\n",
        "multiplo = int(input(\"digite um multiplo \"))\n",
        "numReal = int(input(\"digite um numero inteiro \"))\n",
        "\n",
        "if numReal % multiplo == 0:\n",
        "   print(f\"{numReal}  : O numero e multiplo de {multiplo}:\")\n",
        "else:\n",
        "   print(f\"Esse numero não e multiplo de {multiplo}.\")"
      ],
      "metadata": {
        "colab": {
          "base_uri": "https://localhost:8080/"
        },
        "id": "iSQ7e6qFh9W9",
        "outputId": "bf719566-1ed2-4c12-c190-f4532842626e"
      },
      "execution_count": null,
      "outputs": [
        {
          "output_type": "stream",
          "name": "stdout",
          "text": [
            "digite um multiplo 2\n",
            "digite umnumero inteiro 5\n",
            "Esse numero não e multiplo de 2.\n"
          ]
        }
      ]
    },
    {
      "cell_type": "code",
      "source": [
        "# 7 Desenvolva um algoritmo que classifique um número inteiro fornecido pelo usuário como\n",
        "# par ou ímpar\n",
        "numReal = int(input(\"digite umnumero inteiro \"))\n",
        "if numReal % 2 == 0:\n",
        "   print(\"Esse numero e par.\")\n",
        "else:\n",
        "   print(\"Esse numero e impar.\")"
      ],
      "metadata": {
        "colab": {
          "base_uri": "https://localhost:8080/"
        },
        "id": "50F7G0wCPvEq",
        "outputId": "585a83af-536e-4f15-f9f0-06bf6556651b"
      },
      "execution_count": null,
      "outputs": [
        {
          "output_type": "stream",
          "name": "stdout",
          "text": [
            "digite umnumero inteiro 4\n",
            "Esse numero e par.\n"
          ]
        }
      ]
    },
    {
      "cell_type": "code",
      "source": [
        "# 8 Elabore um algoritmo que leia um número, e se ele for maior do que 20, imprimir a metade\n",
        "# desse número, caso contrário, imprimir o dobro do número\n",
        "num = int(input(\"digite umnumero inteiro \"))\n",
        "\n",
        "if num > 20:\n",
        "   print(f\"A metade de {num} e {num/2}\")\n",
        "elif num < 20:\n",
        "   print(f\"O dobro de {num} e {num*2}\")\n",
        "else:  # num == 20\n",
        "    print(f\"O dobro de {num} é {num * 2} e a metade é {num / 2}\")"
      ],
      "metadata": {
        "colab": {
          "base_uri": "https://localhost:8080/"
        },
        "id": "P9LDnCEUU1JL",
        "outputId": "1f87fce3-d63f-4061-e302-4365b0f3951d"
      },
      "execution_count": null,
      "outputs": [
        {
          "output_type": "stream",
          "name": "stdout",
          "text": [
            "digite umnumero inteiro 20\n",
            "O dobro de 20 é 40 e a metade é 10.0\n"
          ]
        }
      ]
    },
    {
      "cell_type": "code",
      "source": [
        "# 9. Elabore um algoritmo que leia dois números inteiros e realize a adição; caso o resultado\n",
        "# seja maior que 10, imprima o quadrado do resultado, caso contrário, imprima a metade dele\n",
        "num1 = int(input(\"digite um numero inteiro \"))\n",
        "num2 = int(input(\"digite um numero inteiro \"))\n",
        "soma = num1 + num2\n",
        "\n",
        "if soma > 10:\n",
        "   print(f\"O quadrado de {soma} é {soma**2}\")\n",
        "else:\n",
        "   print(f\"A metade de {soma} é {soma/2}\")"
      ],
      "metadata": {
        "colab": {
          "base_uri": "https://localhost:8080/"
        },
        "outputId": "0d14cdae-9559-4d91-f676-1077e6eb6ff4",
        "id": "phj_0oYNa68O"
      },
      "execution_count": null,
      "outputs": [
        {
          "output_type": "stream",
          "name": "stdout",
          "text": [
            "digite um numero inteiro 8\n",
            "digite um numero inteiro 9\n",
            "O quadrado de 17 é 289\n"
          ]
        }
      ]
    },
    {
      "cell_type": "code",
      "source": [
        "\n",
        "# 10. O sistema de avaliação de determinada disciplina é composto por três provas. A primeira\n",
        "# prova tem peso 2, a segunda tem peso 3 e a terceira tem peso 5. Considerando que a\n",
        "# média para aprovação é 6.0, faça um algoritmo para calcular a média final de um aluno\n",
        "# desta disciplina e dizer se o aluno foi aprovado ou não\n",
        "\n",
        "nota1 = float(input(\"digite a primeira nota \"))\n",
        "nota2 = float(input(\"digite a segunda nota \"))\n",
        "nota3 = float(input(\"digite a terceira nota \"))\n",
        "\n",
        "soma = nota1 + nota2 + nota3\n",
        "\n",
        "if soma >= 6.0:\n",
        "  print(f\"O aluno foi aprovado: {soma}\")\n",
        "else:\n",
        "  print(f\"O aluno foi reprovado: {soma}\")"
      ],
      "metadata": {
        "colab": {
          "base_uri": "https://localhost:8080/"
        },
        "id": "XP4RFuHud1wy",
        "outputId": "d3ce33bb-7f2e-43e5-b5a0-553ca424260e"
      },
      "execution_count": null,
      "outputs": [
        {
          "output_type": "stream",
          "name": "stdout",
          "text": [
            "digite a primeira nota 4\n",
            "digite a segunda nota 7\n",
            "digite a terceira nota 8\n",
            "O aluno foi aprovado: 19.0\n"
          ]
        }
      ]
    },
    {
      "cell_type": "code",
      "source": [
        "#10 O sistema de avaliação de determinada disciplina é composto por três provas. A primeira\n",
        "# prova tem peso 2, a segunda tem peso 3 e a terceira tem peso 5. Considerando que a\n",
        "# média para aprovação é 6.0, faça um algoritmo para calcular a média final de um aluno\n",
        "# desta disciplina e dizer se o aluno foi aprovado ou não\n",
        "\n",
        "# Primeira nota - máximo 2\n",
        "nota1 = float(input(\"Digite a primeira nota (máx 2): \"))\n",
        "while nota1 > 2:\n",
        "    print(\"Nota inválida! A primeira nota deve ser no máximo 2.\")\n",
        "    nota1 = float(input(\"Digite a primeira nota (máx 2): \"))\n",
        "\n",
        "# Segunda nota - máximo 3\n",
        "nota2 = float(input(\"Digite a segunda nota (máx 3): \"))\n",
        "while nota2 > 3:\n",
        "    print(\"Nota inválida! A segunda nota deve ser no máximo 3.\")\n",
        "    nota2 = float(input(\"Digite a segunda nota (máx 3): \"))\n",
        "\n",
        "# Terceira nota - máximo 5\n",
        "nota3 = float(input(\"Digite a terceira nota (máx 5): \"))\n",
        "while nota3 > 5:\n",
        "    print(\"Nota inválida! A terceira nota deve ser no máximo 5.\")\n",
        "    nota3 = float(input(\"Digite a terceira nota (máx 5): \"))\n",
        "\n",
        "# Soma das notas\n",
        "soma = nota1 + nota2 + nota3\n",
        "\n",
        "# Verificação de aprovação\n",
        "if soma >= 6.0:\n",
        "    print(f\"O aluno foi aprovado: {soma}\")\n",
        "else:\n",
        "    print(f\"O aluno foi reprovado: {soma}\")\n",
        "\n"
      ],
      "metadata": {
        "id": "Dy9EZi2pf9SC"
      },
      "execution_count": null,
      "outputs": []
    },
    {
      "cell_type": "code",
      "source": [
        "# 11. Elabore um algoritmo que leia o nome e o peso de duas pessoas e imprima o nome da\n",
        "# pessoa mais pesada\n",
        "\n",
        "nome1 = input(\"Digite o nome da primeira pessoa: \")\n",
        "peso1 = float(input(\"Digite o peso da primeira pessoa: \"))\n",
        "\n",
        "nome2 = input(\"Digite o nome da segunda pessoa: \")\n",
        "peso2 = float(input(\"Digite o peso da segunda pessoa: \"))\n",
        "\n",
        "if peso1 > peso2:\n",
        "    print(f\"A pessoa mais pesada é {nome1} com {peso1} kg.\")\n",
        "elif peso2 > peso1:\n",
        "    print(f\"A pessoa mais pesada é {nome2} com {peso2} kg.\")\n",
        "else:\n",
        "    print('As duas pessoas tem o mesmo peso')"
      ],
      "metadata": {
        "id": "YYNUxbvq_fIK"
      },
      "execution_count": null,
      "outputs": []
    },
    {
      "cell_type": "code",
      "source": [
        "#12. Elabore um algoritmo que indique se um número digitado está compreendido entre 20 e\n",
        "# 90, ou não\n",
        "\n",
        "n1 = int(input(\"Digite o numero: \"))\n",
        "\n",
        "if 20 <= n1 <= 90 :\n",
        "  print ('este numero esta entre  20 e 90')\n",
        "\n",
        "else:\n",
        "  print (' este numero nao esta entre 20 e 90')"
      ],
      "metadata": {
        "colab": {
          "base_uri": "https://localhost:8080/"
        },
        "id": "dV5oNT10DSr3",
        "outputId": "6b6b4c47-055a-4a7d-feca-268b36584af6"
      },
      "execution_count": null,
      "outputs": [
        {
          "output_type": "stream",
          "name": "stdout",
          "text": [
            "Digite o numero: 19\n",
            "este numero esta entre 90 e 20\n"
          ]
        }
      ]
    },
    {
      "cell_type": "code",
      "source": [
        "# 13. Elabore um algoritmo que leia dois números e imprima qual é maior, qual é menor, ou se\n",
        "# são iguais\n",
        "\n",
        "\n",
        "n1 = float(input(\"Digite um numero: \"))\n",
        "\n",
        "n2 = float(input(\"Digite um numero: \"))\n",
        "\n",
        "if n1 > n2:\n",
        "    print(f\"O numero maior e: {n1}\")\n",
        "    print(f\"O numero menor e: {n2}\")\n",
        "elif n2 > n1:\n",
        "    print(f\"O numero maior e: {n2}\")\n",
        "    print(f\"O numero menor e: {n1}\")\n",
        "else:\n",
        "    print('os dois numeros sao iguais')"
      ],
      "metadata": {
        "colab": {
          "base_uri": "https://localhost:8080/"
        },
        "id": "v6L4eloaGc9G",
        "outputId": "61c5f78a-e93b-4840-8e7c-f16bfb5175e9"
      },
      "execution_count": null,
      "outputs": [
        {
          "output_type": "stream",
          "name": "stdout",
          "text": [
            "Digite um numero: 2\n",
            "Digite um numero: 6\n",
            "O numero maior e: 6.0\n",
            "O numero menor e: 2.0\n"
          ]
        }
      ]
    },
    {
      "cell_type": "code",
      "source": [
        "# 14. Escreva um programa em linguagem C que solicite ao usuário a média para aprovação\n",
        "# em um curso e em seguida solicite ao usuário o nome, sexo e as 03 notas do aluno e ao\n",
        "# final imprima a frase: \"O aluno XXXXX foi aprovado com media YY\" considerando o gênero\n",
        "# do(a) aluno(a) e se foi aprovado(a) ou reprovado(a)\n",
        "\n",
        "nome = (input(\"digite o nome do aluno: \\n \"))\n",
        "\n",
        "sexo = (input(\"genero do aluno: \\n \"))\n",
        "\n",
        "n1 = float(input(\"Digite a nota1: \\n \"))\n",
        "\n",
        "n2 = float(input(\"Digite a nota2: \\n \"))\n",
        "\n",
        "n3 = float(input(\"Digite a nota3: \\n \"))\n",
        "\n",
        "total = (n1+n2+n3)/3\n",
        "\n",
        "if total >=6:\n",
        "  print (f'o aluno {nome} foi aprovado com a media {total} considerando o genero {sexo}')\n",
        "else:\n",
        "  print (f'o aluno {nome} foi reprovado com a media {total} considerando o genero {sexo}')"
      ],
      "metadata": {
        "id": "88X-o5gVIa9m"
      },
      "execution_count": null,
      "outputs": []
    },
    {
      "cell_type": "code",
      "source": [
        "lista=(\"andre\",\"pedor\",\"lucas\")\n",
        "print(lista{0})"
      ],
      "metadata": {
        "colab": {
          "base_uri": "https://localhost:8080/",
          "height": 106
        },
        "id": "HqZkYKOcPnc7",
        "outputId": "3da72e9b-903e-4fd4-d433-3895b7e30d40"
      },
      "execution_count": null,
      "outputs": [
        {
          "output_type": "error",
          "ename": "SyntaxError",
          "evalue": "invalid syntax. Perhaps you forgot a comma? (ipython-input-3512832479.py, line 2)",
          "traceback": [
            "\u001b[0;36m  File \u001b[0;32m\"/tmp/ipython-input-3512832479.py\"\u001b[0;36m, line \u001b[0;32m2\u001b[0m\n\u001b[0;31m    print(lista{0})\u001b[0m\n\u001b[0m          ^\u001b[0m\n\u001b[0;31mSyntaxError\u001b[0m\u001b[0;31m:\u001b[0m invalid syntax. Perhaps you forgot a comma?\n"
          ]
        }
      ]
    }
  ]
}