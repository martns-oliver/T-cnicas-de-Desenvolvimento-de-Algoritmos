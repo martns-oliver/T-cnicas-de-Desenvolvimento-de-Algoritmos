{
  "nbformat": 4,
  "nbformat_minor": 0,
  "metadata": {
    "colab": {
      "provenance": []
    },
    "kernelspec": {
      "name": "python3",
      "display_name": "Python 3"
    },
    "language_info": {
      "name": "python"
    }
  },
  "cells": [
    {
      "cell_type": "code",
      "source": [
        "# Escreva um programa que solicita que o usuário digite 5 números inteiros e os coloca em uma lista\n",
        "\n",
        "numeros = []\n",
        "\n",
        "for i in range(5):\n",
        "    numero = int(input(f\"Digite o {i+1}º número inteiro: \"))\n",
        "    numeros.append(numero)\n",
        "\n",
        "print(\"\\nos números digitados foram:\", numeros)"
      ],
      "metadata": {
        "id": "qujb1bFVVTrN"
      },
      "execution_count": null,
      "outputs": []
    },
    {
      "cell_type": "code",
      "source": [
        "# Escreva um programa que aplica a função módulo a todos os elementos e uma lista.\n",
        "\n",
        "numeros = []\n",
        "\n",
        "for i in range(5):\n",
        "    numero = int(input(f\"Digite o {i+1}º número inteiro: \"))\n",
        "    numeros.append(numero)\n",
        "\n",
        "modulos = [abs(num) for num in numeros]\n",
        "\n",
        "print(\"Lista original:\", numeros)\n",
        "print(\"Lista com módulo aplicado:\", modulos)\n"
      ],
      "metadata": {
        "id": "qO74teqqV4fj"
      },
      "execution_count": null,
      "outputs": []
    },
    {
      "cell_type": "code",
      "source": [
        "# Escreva um programa que apaga todos os elementos negativos de uma lista\n",
        "\n",
        "numeros = []\n",
        "\n",
        "for i in range(5):\n",
        "    numero = int(input(f\"Digite o {i+1}º número inteiro: \"))\n",
        "    numeros.append(numero)\n",
        "\n",
        "print(\"Lista original:\", numeros)\n",
        "\n",
        "positivos = [num for num in numeros if num >= 0]\n",
        "\n",
        "print(\"Lista sem os números negativos:\", positivos)\n"
      ],
      "metadata": {
        "id": "VWOKuhISWlAV"
      },
      "execution_count": null,
      "outputs": []
    },
    {
      "cell_type": "code",
      "source": [
        "# Faça um programa que solicita uma quantidade indefinida de notas de uma prova\n",
        "#  (deve parar quando um número negativo for digitado). Armazena em uma lista. Após isso, o programa deve mostrar a média das notas.\n",
        "\n",
        "notas = []\n",
        "\n",
        "while True:\n",
        "    nota = float(input(\"Digite uma nota (ou um número negativo para parar): \"))\n",
        "    if nota < 0:\n",
        "        break\n",
        "    notas.append(nota)\n",
        "\n",
        "if len(notas) > 0:\n",
        "    media = sum(notas) / len(notas)\n",
        "    print(\"Notas digitadas:\", notas)\n",
        "    print(f\"Média das notas: {media:.2f}\")\n",
        "else:\n",
        "    print(\"Nenhuma nota válida foi digitada.\")\n"
      ],
      "metadata": {
        "id": "8zVqCNl0XFPt"
      },
      "execution_count": null,
      "outputs": []
    },
    {
      "cell_type": "code",
      "source": [
        "#Faça um programa que solicita uma quantidade indefinida de números positivos (deve parar quando um número negativo for digitado)\n",
        "#.Armazene-os em duas listas: uma para os números pares; outra para os números ímpares. A seguir, mostre a porcentagem de pares e ímpares digitados.\n",
        "\n",
        "pares = []\n",
        "impares = []\n",
        "\n",
        "while True:\n",
        "    numero = int(input(\"Digite um número positivo (ou um número negativo para parar): \"))\n",
        "    if numero < 0:\n",
        "        break\n",
        "\n",
        "    if numero % 2 == 0:\n",
        "        pares.append(numero)\n",
        "    else:\n",
        "        impares.append(numero)\n",
        "\n",
        "total = len(pares) + len(impares)\n",
        "\n",
        "if total > 0:\n",
        "    porcentagem_pares = (len(pares) / total) * 100\n",
        "    porcentagem_impares = (len(impares) / total) * 100\n",
        "\n",
        "    print(\"\\nNúmeros pares:\", pares)\n",
        "    print(\"Números ímpares:\", impares)\n",
        "    print(f\"Porcentagem de pares: {porcentagem_pares:.2f}%\")\n",
        "    print(f\"Porcentagem de ímpares: {porcentagem_impares:.2f}%\")\n",
        "else:\n",
        "    print(\"Nenhum número positivo foi digitado.\")\n"
      ],
      "metadata": {
        "id": "eZlWB-w_X1Bk"
      },
      "execution_count": null,
      "outputs": []
    },
    {
      "cell_type": "code",
      "source": [
        "#Faça um programa que solicita uma quantidade indefinida de números positivos\n",
        "#(deve parar quando um número negativo for digitado). Armazene todos os números digitados em uma lista, sem repetição\n",
        "\n",
        "numeros = []\n",
        "\n",
        "while True:\n",
        "    numero = int(input(\"Digite um número positivo (ou um número negativo para parar): \"))\n",
        "    if numero < 0:\n",
        "        break\n",
        "\n",
        "    if numero not in numeros:\n",
        "        numeros.append(numero)\n",
        "\n",
        "print(\"\\nNúmeros digitados (sem repetição):\", numeros)\n"
      ],
      "metadata": {
        "id": "zmr0YjUwYQQX"
      },
      "execution_count": null,
      "outputs": []
    },
    {
      "cell_type": "code",
      "source": [
        "#Escreva um programa que solicita que o usuário digite a altura e o peso de 5 pessoas. Verifique se pelo menos duas das pessoas tem a mesma altura e mesmo peso\n",
        "\n",
        "pessoas = []\n",
        "\n",
        "for i in range(5):\n",
        "    a = float(input(\"Altura: \"))\n",
        "    p = float(input(\"Peso: \"))\n",
        "    pessoas.append((a, p))\n",
        "\n",
        "if len(pessoas) != len(set(pessoas)):\n",
        "    print(\"Pelo menos duas pessoas têm a mesma altura e peso.\")\n",
        "else:\n",
        "    print(\"Nenhuma pessoa tem a mesma altura e peso.\")\n"
      ],
      "metadata": {
        "id": "_cCxRuHpYoU0"
      },
      "execution_count": null,
      "outputs": []
    },
    {
      "cell_type": "code",
      "source": [
        "#Faça um programa que solicita que o usuário digite o nome e\n",
        "#a idade de diversas pessoas (o programa deve parar quando um nome vazio for informado). Retorne o nome da pessoa mais velha. Exercícios\n",
        "\n",
        "pessoas = []\n",
        "\n",
        "while True:\n",
        "    nome = input(\"Digite o nome (ou vazio para parar): \")\n",
        "    if nome == \"\":\n",
        "        break\n",
        "    idade = int(input(\"Digite a idade: \"))\n",
        "    pessoas.append((nome, idade))\n",
        "\n",
        "if pessoas:\n",
        "\n",
        "    mais_velha = max(pessoas, key=lambda x: x[1])\n",
        "    print(f\"\\nA pessoa mais velha é {mais_velha[0]}, com {mais_velha[1]} anos.\")\n",
        "else:\n",
        "    print(\"Nenhuma pessoa foi cadastrada.\")\n"
      ],
      "metadata": {
        "id": "SR9fxna9ZM8G"
      },
      "execution_count": null,
      "outputs": []
    },
    {
      "cell_type": "code",
      "source": [
        "#Quantos alunos existem? Alguém tirou nota zero? Qual foi a menor nota? Qual foi a maior nota?\n",
        "\n",
        "alunos = {\n",
        "    \"Alice\": 8.5,\n",
        "    \"Bruno\": 7.8,\n",
        "    \"Carla\": 9.2,\n",
        "    \"Diego\": 6.9,\n",
        "    \"Eva\": 8.0,\n",
        "    \"Fernando\": 7.5,\n",
        "    \"Gabriela\": 9.0,\n",
        "    \"Henrique\": 6.7,\n",
        "    \"Isabela\": 8.3,\n",
        "    \"João\": 7.2\n",
        "}\n",
        "\n",
        "total_alunos = len(alunos)\n",
        "print(\"Total de alunos:\", total_alunos)\n",
        "\n",
        "nota_zero = 0 in alunos.values()\n",
        "print(\"Alguém tirou nota zero?\", \"Sim\" if nota_zero else \"Não\")\n",
        "\n",
        "menor_nota = min(alunos.values())\n",
        "print(\"Menor nota:\", menor_nota)\n",
        "\n",
        "maior_nota = max(alunos.values())\n",
        "print(\"Maior nota:\", maior_nota)\n"
      ],
      "metadata": {
        "colab": {
          "base_uri": "https://localhost:8080/"
        },
        "id": "mk1J1vBQaNs3",
        "outputId": "2f3aad9c-2d43-4514-a3d3-74258a153373"
      },
      "execution_count": 16,
      "outputs": [
        {
          "output_type": "stream",
          "name": "stdout",
          "text": [
            "Total de alunos: 10\n",
            "Alguém tirou nota zero? Não\n",
            "Menor nota: 6.7\n",
            "Maior nota: 9.2\n"
          ]
        }
      ]
    },
    {
      "cell_type": "code",
      "source": [
        "# Imprima o total de episódios Substitua a quantidade de episódios pelo\n",
        "# percentual (ep_anime/ep_total) Imprima nome e percentual de cada anime, em ordem decrescente de percentual\n",
        "\n",
        "animes = {\n",
        "    \"Naruto\": 220,\n",
        "    \"Jujutsu Kaisen\": 47,\n",
        "    \"Dragon Ball Z\": 291,\n",
        "    \"Death Note\": 37,\n",
        "    \"Fullmetal Alchemist\": 64,\n",
        "    \"Evangelion\": 26,\n",
        "    \"Berserk\": 25,\n",
        "    \"Code Geass\": 50,\n",
        "    \"Akame ga Kill!\": 24,\n",
        "    \"Elfen Lied\": 13\n",
        "}\n",
        "\n",
        "total_episodios = sum(animes.values())\n",
        "print(f\"Total de episódios: {total_episodios}\")\n",
        "\n",
        "percentuais = {anime: ep/total_episodios for anime, ep in animes.items()}\n",
        "\n",
        "for anime, perc in sorted(percentuais.items(), key=lambda x: x[1], reverse=True):\n",
        "    print(f\"{anime}: {perc:.2%}\")\n"
      ],
      "metadata": {
        "colab": {
          "base_uri": "https://localhost:8080/"
        },
        "id": "tozbf4KobxzV",
        "outputId": "a1437616-285b-46b8-efe8-02625b1e9957"
      },
      "execution_count": 17,
      "outputs": [
        {
          "output_type": "stream",
          "name": "stdout",
          "text": [
            "Total de episódios: 797\n",
            "Dragon Ball Z: 36.51%\n",
            "Naruto: 27.60%\n",
            "Fullmetal Alchemist: 8.03%\n",
            "Code Geass: 6.27%\n",
            "Jujutsu Kaisen: 5.90%\n",
            "Death Note: 4.64%\n",
            "Evangelion: 3.26%\n",
            "Berserk: 3.14%\n",
            "Akame ga Kill!: 3.01%\n",
            "Elfen Lied: 1.63%\n"
          ]
        }
      ]
    },
    {
      "cell_type": "code",
      "source": [
        "bandas = {\n",
        "    \"Gangrena Gasosa\": [\n",
        "        {\"álbum\": \"Gente Ruim Só Manda Lembrança Pra Quem Não Presta\", \"ano\": 2019},\n",
        "        {\"álbum\": \"Se Deus É 10, Satanás É 666\", \"ano\": 1999},\n",
        "        {\"álbum\": \"Welcome to the Macumba\", \"ano\": 1993}\n",
        "    ],\n",
        "    \"Rogério Skylab\": [\n",
        "        {\"álbum\": \"Nas Portas do Cu\", \"ano\": 2023},\n",
        "        {\"álbum\": \"Crítica da Faculdade do Cu\", \"ano\": 2021},\n",
        "        {\"álbum\": \"Cosmos\", \"ano\": 2019}\n",
        "    ],\n",
        "    \"Garotos Podres\": [\n",
        "        {\"álbum\": \"Canções para Ninar\", \"ano\": 2003},\n",
        "        {\"álbum\": \"Com a Corda Toda\", \"ano\": 1997},\n",
        "        {\"álbum\": \"Rock de Subúrbio\", \"ano\": 1995}\n",
        "    ],\n",
        "    \"Massacration\": [\n",
        "        {\"álbum\": \"Live Metal Espancation\", \"ano\": 2017},\n",
        "        {\"álbum\": \"Good Blood Headbanguers\", \"ano\": 2009},\n",
        "        {\"álbum\": \"Gates of Metal Fried Chicken of Death\", \"ano\": 2005}\n",
        "    ],\n",
        "    \"Raimundos\": [\n",
        "        {\"álbum\": \"Cantigas de Roda\", \"ano\": 2014},\n",
        "        {\"álbum\": \"Roda Viva\", \"ano\": 2006},\n",
        "        {\"álbum\": \"Éramos 4\", \"ano\": 2001}\n",
        "    ]\n",
        "}\n",
        "\n",
        "# 1. Álbum mais antigo\n",
        "mais_antigo = None\n",
        "ano_antigo = float('inf')\n",
        "for albuns in bandas.values():\n",
        "    for a in albuns:\n",
        "        if a[\"ano\"] < ano_antigo:\n",
        "            ano_antigo = a[\"ano\"]\n",
        "            mais_antigo = a[\"álbum\"]\n",
        "\n",
        "print(\"Álbum mais antigo:\", mais_antigo)\n",
        "\n",
        "# 2. Banda com maior intervalo entre álbuns\n",
        "maior_intervalo = 0\n",
        "banda_maior_intervalo = \"\"\n",
        "for banda, albuns in bandas.items():\n",
        "    anos = [a[\"ano\"] for a in albuns]\n",
        "    intervalo = max(anos) - min(anos)\n",
        "    if intervalo > maior_intervalo:\n",
        "        maior_intervalo = intervalo\n",
        "        banda_maior_intervalo = banda\n",
        "\n",
        "print(\"Banda com maior intervalo entre álbuns:\", banda_maior_intervalo)"
      ],
      "metadata": {
        "colab": {
          "base_uri": "https://localhost:8080/"
        },
        "id": "5qOF4KaBcMMA",
        "outputId": "78da74bd-fc1c-4c5f-abf2-618cc2414abe"
      },
      "execution_count": 19,
      "outputs": [
        {
          "output_type": "stream",
          "name": "stdout",
          "text": [
            "Álbum mais antigo: Welcome to the Macumba\n",
            "Banda com maior intervalo entre álbuns: Gangrena Gasosa\n"
          ]
        }
      ]
    },
    {
      "cell_type": "code",
      "source": [
        "# Imprima o álbum mais antigo imprima a banda que tem o maior intervalo entre\n",
        "# os álbuns Imprima todos os álbuns do mais novo para o mais antigo, dizendo também o nome da banda\n",
        "\n",
        "bandas = {\n",
        "    \"Gangrena Gasosa\": [\n",
        "        {\"álbum\": \"Gente Ruim Só Manda Lembrança Pra Quem Não Presta\", \"ano\": 2019},\n",
        "        {\"álbum\": \"Se Deus É 10, Satanás É 666\", \"ano\": 1999},\n",
        "        {\"álbum\": \"Welcome to the Macumba\", \"ano\": 1993}\n",
        "    ],\n",
        "    \"Rogério Skylab\": [\n",
        "        {\"álbum\": \"Nas Portas do Cu\", \"ano\": 2023},\n",
        "        {\"álbum\": \"Crítica da Faculdade do Cu\", \"ano\": 2021},\n",
        "        {\"álbum\": \"Cosmos\", \"ano\": 2019}\n",
        "    ],\n",
        "    \"Garotos Podres\": [\n",
        "        {\"álbum\": \"Canções para Ninar\", \"ano\": 2003},\n",
        "        {\"álbum\": \"Com a Corda Toda\", \"ano\": 1997},\n",
        "        {\"álbum\": \"Rock de Subúrbio\", \"ano\": 1995}\n",
        "    ],\n",
        "    \"Massacration\": [\n",
        "        {\"álbum\": \"Live Metal Espancation\", \"ano\": 2017},\n",
        "        {\"álbum\": \"Good Blood Headbanguers\", \"ano\": 2009},\n",
        "        {\"álbum\": \"Gates of Metal Fried Chicken of Death\", \"ano\": 2005}\n",
        "    ],\n",
        "    \"Raimundos\": [\n",
        "        {\"álbum\": \"Cantigas de Roda\", \"ano\": 2014},\n",
        "        {\"álbum\": \"Roda Viva\", \"ano\": 2006},\n",
        "        {\"álbum\": \"Éramos 4\", \"ano\": 2001}\n",
        "    ]\n",
        "}\n",
        "\n",
        "# 1. Álbum mais antigo\n",
        "mais_antigo = None\n",
        "ano_antigo = float('inf')\n",
        "for albuns in bandas.values():\n",
        "    for a in albuns:\n",
        "        if a[\"ano\"] < ano_antigo:\n",
        "            ano_antigo = a[\"ano\"]\n",
        "            mais_antigo = a[\"álbum\"]\n",
        "\n",
        "print(\"Álbum mais antigo:\", mais_antigo)\n",
        "\n",
        "# 2. Banda com maior intervalo entre álbuns\n",
        "maior_intervalo = 0\n",
        "banda_maior_intervalo = \"\"\n",
        "for banda, albuns in bandas.items():\n",
        "    anos = [a[\"ano\"] for a in albuns]\n",
        "    intervalo = max(anos) - min(anos)\n",
        "    if intervalo > maior_intervalo:\n",
        "        maior_intervalo = intervalo\n",
        "        banda_maior_intervalo = banda\n",
        "\n",
        "print(\"Banda com maior intervalo entre álbuns:\", banda_maior_intervalo)"
      ],
      "metadata": {
        "colab": {
          "base_uri": "https://localhost:8080/"
        },
        "id": "NmHLF4ZycYik",
        "outputId": "30a8f5a6-52cd-4c10-e2ea-059b78741c2c"
      },
      "execution_count": 20,
      "outputs": [
        {
          "output_type": "stream",
          "name": "stdout",
          "text": [
            "Álbum mais antigo: Welcome to the Macumba\n",
            "Banda com maior intervalo entre álbuns: Gangrena Gasosa\n"
          ]
        }
      ]
    }
  ]
}