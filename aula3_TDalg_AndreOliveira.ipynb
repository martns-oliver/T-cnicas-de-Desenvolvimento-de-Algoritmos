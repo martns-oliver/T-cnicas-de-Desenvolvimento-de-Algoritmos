{
  "nbformat": 4,
  "nbformat_minor": 0,
  "metadata": {
    "colab": {
      "provenance": []
    },
    "kernelspec": {
      "name": "python3",
      "display_name": "Python 3"
    },
    "language_info": {
      "name": "python"
    }
  },
  "cells": [
    {
      "cell_type": "code",
      "execution_count": null,
      "metadata": {
        "id": "7yVxn8daSaOw"
      },
      "outputs": [],
      "source": [
        "# 1. Elabore um algoritmo que imprima na tela lado a lado o texto \"Hello World!\" 10 vezes\n",
        "\n",
        "for i in range(10):\n",
        "    print(\"Hello World!\", end='')\n"
      ]
    },
    {
      "cell_type": "code",
      "source": [
        "# 2. Elabore um algoritmo que imprima na tela o texto \"Hello World!\" 10 vezes, um por linha\n",
        "\n",
        "for i in range(10):\n",
        "    print(\"Hello World!\")"
      ],
      "metadata": {
        "id": "nbK7fhPMTm-s"
      },
      "execution_count": null,
      "outputs": []
    },
    {
      "cell_type": "code",
      "source": [
        "# 3. Elabore um algoritmo que imprima todos os números inteiros de 1 até 100 inclusive.\n",
        "\n",
        "for i in range(1, 101):\n",
        "    print(i)"
      ],
      "metadata": {
        "id": "hWAavEW8UERe"
      },
      "execution_count": null,
      "outputs": []
    },
    {
      "cell_type": "code",
      "source": [
        "# 4. Elabore um algoritmo que imprima 100 vezes o texto \"1- Hello World!\" com o número\n",
        "\n",
        "for i in range(1, 101):\n",
        "    print(i, \"- Hello World!\")"
      ],
      "metadata": {
        "id": "r2BYWlq4UOsu"
      },
      "execution_count": null,
      "outputs": []
    },
    {
      "cell_type": "code",
      "source": [
        "# 5. Elabore um algoritmo que imprima todos os números decrescentes de 100 até 0 inclusive:\n",
        "\n",
        "for i in range(100, -1, -1):\n",
        "    print(i)"
      ],
      "metadata": {
        "id": "4nvLlJf2UW_t"
      },
      "execution_count": null,
      "outputs": []
    },
    {
      "cell_type": "code",
      "source": [
        "# 6. Elabore um algoritmo que imprima todos os números pares inteiros de 1 até 1000\n",
        "\n",
        "for i in range(2, 1001, 2):\n",
        "    print(i)"
      ],
      "metadata": {
        "id": "3J_ul5_gVLSO"
      },
      "execution_count": null,
      "outputs": []
    },
    {
      "cell_type": "code",
      "source": [
        "# 7. Elabore um algoritmo que imprima todos os números ímpares de 1000 até 0.\n",
        "for i in range(1001, -1, -2):\n",
        "    print(i)"
      ],
      "metadata": {
        "id": "BUcVT2XzV7KI"
      },
      "execution_count": null,
      "outputs": []
    },
    {
      "cell_type": "code",
      "source": [
        "# 8. Elabore um algoritmo que imprima a soma dos 100 primeiros números inteiros positivos\n",
        "\n",
        "soma = 0\n",
        "for i in range(1, 101):\n",
        "    soma += i\n",
        "\n",
        "print(\"\\n===== RESULTADOS =====\")\n",
        "print(\"A soma dos 100 primeiros números inteiros positivos é:\", soma)"
      ],
      "metadata": {
        "id": "Ybt1Rp7pYdsL"
      },
      "execution_count": null,
      "outputs": []
    },
    {
      "cell_type": "code",
      "source": [
        "# 9. Elabore um algoritmo que solicite ao usuário um número inteiro que indicará a quantidade\n",
        "# de vezes que o texto \"Hello World!\" será impresso na tela, um em cada linha.\n",
        "\n",
        "\n",
        "for i in range(int(input(\"Digite um número inteiro: \"))):\n",
        "\n",
        "    print(\"\\n===== RESULTADOS =====\")\n",
        "    print(\"Hello World!\")"
      ],
      "metadata": {
        "id": "Eb1jsga1ahk1"
      },
      "execution_count": null,
      "outputs": []
    },
    {
      "cell_type": "code",
      "source": [
        "# 10. Elabore um algoritmo que solicite ao usuário uma palavra e um número inteiro que\n",
        "# indicará a quantidade de vezes que a palavra digitada será impressa na tela, um em cada\n",
        "\n",
        "pl = input(\"Digite uma palavra: \")\n",
        "nu = int(input(\"Digite um número inteiro: \"))\n",
        "\n",
        "print(\"\\n===== RESULTADOS =====\")\n",
        "for i in range(nu):\n",
        "    print(pl)"
      ],
      "metadata": {
        "id": "M3gPIfL7bfjI"
      },
      "execution_count": null,
      "outputs": []
    },
    {
      "cell_type": "code",
      "source": [
        "# 11. Elabore um algoritmo que leia um número de entrada que indicará a quantidade de\n",
        "# números a serem lidos. Em seguida, leia n números (conforme o valor informado\n",
        "# anteriormente) e imprima a soma e a média aritmética dos números informados.\n",
        "\n",
        "n1 = int(input(\"Digite um número inteiro: \"))\n",
        "soma = 0\n",
        "for i in range(n1):\n",
        "    num = float(input(f\"Digite o {i+1}º número: \"))\n",
        "    soma += n1\n",
        "    media = soma / n1\n",
        "print(\"\\n===== RESULTADOS =====\")\n",
        "print(\"A soma dos números é:\", soma)\n",
        "print(\"A média dos números é:\", media)"
      ],
      "metadata": {
        "colab": {
          "base_uri": "https://localhost:8080/"
        },
        "id": "eFD4xHZl92Ba",
        "outputId": "8ef655ad-7179-453b-bf1e-f87648b9f875"
      },
      "execution_count": 26,
      "outputs": [
        {
          "output_type": "stream",
          "name": "stdout",
          "text": [
            "Digite um número inteiro: 2\n",
            "Digite o 1º número: 3\n",
            "Digite o 2º número: 4\n",
            "\n",
            "===== RESULTADOS =====\n",
            "A soma dos números é: 4\n",
            "A média dos números é: 2.0\n"
          ]
        }
      ]
    },
    {
      "cell_type": "code",
      "source": [
        "# 12. Elabore um algoritmo que leia um número de entrada que indicará a quantidade de\n",
        "# registros a serem lidos (N). Em seguida algoritmo deve solicitar o nome e idade de N\n",
        "# pessoas e ao final apresentar o nome da pessoa mais velha.\n",
        "\n",
        "n1 = int(input(\"Digite um número inteiro: \\n\"))\n",
        "maior = 0\n",
        "for i in range(n1):\n",
        "    nome = input(f\"Digite o nome da {i+1}ª pessoa: \\n \")\n",
        "    idade = int(input(f\"Digite a idade da {i+1}ª pessoa: \\n\"))\n",
        "    if idade > maior:\n",
        "        maior = idade\n",
        "        nome_maior = nome\n",
        "\n",
        "print(\"\\n===== RESULTADOS =====\")\n",
        "print(\"A pessoa mais velha é:\\n\", nome_maior)"
      ],
      "metadata": {
        "colab": {
          "base_uri": "https://localhost:8080/"
        },
        "id": "UfUKZOdaANoa",
        "outputId": "872b9ff6-6ee7-4a3f-a0b0-70493a551677"
      },
      "execution_count": 20,
      "outputs": [
        {
          "output_type": "stream",
          "name": "stdout",
          "text": [
            "Digite um número inteiro: \n",
            "1\n",
            "Digite o nome da 1ª pessoa: \n",
            " andre\n",
            "Digite a idade da 1ª pessoa: \n",
            "12\n",
            "A pessoa mais velha é:\n",
            " andre\n"
          ]
        }
      ]
    },
    {
      "cell_type": "code",
      "source": [
        "# 13. Elabore um algoritmo que leia um número de entrada que indicará a quantidade de\n",
        "# registros a serem lidos (N). Em seguida algoritmo deve solicitar o sexo (M/F) e idade de N\n",
        "# pessoas e ao final apresentar a média de idade de ambos os gêneros catalogados.\n",
        "\n",
        "N = int(input(\"Quantas pessoas serão registradas? \"))\n",
        "\n",
        "soma_m = 0\n",
        "soma_f = 0\n",
        "cont_m = 0\n",
        "cont_f = 0\n",
        "\n",
        "for i in range(N):\n",
        "    print(f\"\\nRegistro {i+1}:\")\n",
        "    sexo = input(\"Digite o sexo (M/F): \").strip().upper()\n",
        "    idade = int(input(\"Digite a idade: \"))\n",
        "\n",
        "    if sexo == \"M\":\n",
        "        soma_m += idade\n",
        "        cont_m += 1\n",
        "    elif sexo == \"F\":\n",
        "        soma_f += idade\n",
        "        cont_f += 1\n",
        "    else:\n",
        "        print(\"Sexo inválido! Registro ignorado.\")\n",
        "\n",
        "media_m = soma_m / cont_m if cont_m > 0 else 0\n",
        "media_f = soma_f / cont_f if cont_f > 0 else 0\n",
        "\n",
        "print(\"\\n===== RESULTADOS =====\")\n",
        "if cont_m > 0:\n",
        "    print(f\"Média de idade dos homens: {media_m:.2f}\")\n",
        "\n",
        "if cont_f > 0:\n",
        "    print(f\"Média de idade das mulheres: {media_f:.2f}\")\n"
      ],
      "metadata": {
        "id": "NyQTGxATCjvh"
      },
      "execution_count": null,
      "outputs": []
    },
    {
      "cell_type": "code",
      "source": [
        "# 14. Elabore um algoritmo que solicite ao usuário 10 números reais e ao final apresente o\n",
        "# maior e o menor deles.\n",
        "\n",
        "maior = float('-inf')\n",
        "menor = float('inf')\n",
        "\n",
        "for i in range(10):\n",
        "    num = float(input(f\"Digite o {i+1}º número: \"))\n",
        "    if num > maior:\n",
        "        maior = num\n",
        "    if num < menor:\n",
        "        menor = num\n",
        "\n",
        "print(\"\\n===== RESULTADOS =====\")\n",
        "\n",
        "print(\"O maior número é:\", maior)\n",
        "print(\"O menor número é:\", menor)\n"
      ],
      "metadata": {
        "id": "rQh_BqIUFr3B"
      },
      "execution_count": null,
      "outputs": []
    },
    {
      "cell_type": "code",
      "source": [
        "\n",
        "# 15. Elabore um algoritmo que solicite N números reais e quando o usuário informar o valor\n",
        "# nulo 0 (zero) o programa ordene e mostre todos os números informados de forma crescente\n",
        "\n",
        "#                          -------------errro------------------\n",
        "\n",
        "num = []\n",
        "\n",
        "print(\"digite um num real (digite 0 encerrar):\")\n",
        "\n",
        "while True:\n",
        "    input_num = float(input(\"num: \"))\n",
        "    if input_num == 0:\n",
        "        break\n",
        "    num.append(input_num)\n",
        "\n",
        "num.sort()\n",
        "\n",
        "print(\"\\nNúmeros informados em ordem crescente:\")\n",
        "print(num)"
      ],
      "metadata": {
        "id": "bnrFKXKNGnpp"
      },
      "execution_count": null,
      "outputs": []
    },
    {
      "cell_type": "code",
      "source": [
        "# 15. Elabore um algoritmo que solicite N números reais e quando o usuário informar o valor\n",
        "# nulo 0 (zero) o programa ordene e mostre todos os números informados de forma crescente\n",
        "\n",
        "num = []\n",
        "\n",
        "print(\"digite um num real (digite 0 encerrar):\")\n",
        "\n",
        "while True:\n",
        "    input_num = float(input(\"num: \"))\n",
        "    if input_num == 0:\n",
        "        break\n",
        "    num.append(input_num)\n",
        "\n",
        "num.sort()\n",
        "\n",
        "print(\"\\nNúmeros informados em ordem crescente:\")\n",
        "print(num)"
      ],
      "metadata": {
        "id": "1DGnf8ddKE-Z"
      },
      "execution_count": null,
      "outputs": []
    },
    {
      "cell_type": "code",
      "source": [
        "# 16. Escreva um programa que vá solicitando as idades dos alunos da sala até que todos\n",
        "# sejam informados (perguntar ao usuário se deseja informar a idade do próximo aluno). Ao\n",
        "# final apresentar a idade do mais novo, a idade do mais velho, Quantos alunos têm mais de\n",
        "# 18 anos, quantos alunos têm até 18 anos, a média aritmética e a mediana.\n",
        "\n",
        "idade = []\n",
        "\n",
        "while True:\n",
        "    idsde = int(input(\"Digite a idade do aluno: \"))\n",
        "    idade.append(idsde)\n",
        "\n",
        "    continuar = input(\"Deseja informar a idade do próximo aluno? (s/n): \")\n",
        "    if continuar.lower() != 's':\n",
        "        break\n",
        "\n",
        "idade.sort()\n",
        "\n",
        "mais_novo = idade[0]\n",
        "mais_velho = idade[-1]\n",
        "maiores_18 = sum(1 for i in idade if i > 18)\n",
        "ate_18 = sum(1 for i in idade if i <= 18)\n",
        "media = sum(idade) / len(idade)\n",
        "\n",
        "n = len(idade)\n",
        "if n % 2 == 1:\n",
        "    mediana = idade[n // 2]\n",
        "else:\n",
        "    mediana = (idade[n // 2 - 1] + idade[n // 2]) / 2\n",
        "\n",
        "print(\"\\n===== RESULTADOS =====\")\n",
        "print(f\"Mais novo: {mais_novo} anos\")\n",
        "print(f\"Mais velho: {mais_velho} anos\")\n",
        "print(f\"Quantidade com mais de 18 anos: {maiores_18}\")\n",
        "print(f\"Quantidade com até 18 anos: {ate_18}\")\n",
        "print(f\"Média aritmética das idades: {media:.2f}\")\n",
        "print(f\"Mediana das idades: {mediana}\")"
      ],
      "metadata": {
        "id": "t_x2Q0LQKxjh"
      },
      "execution_count": null,
      "outputs": []
    }
  ]
}